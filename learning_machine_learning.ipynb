{
  "nbformat": 4,
  "nbformat_minor": 0,
  "metadata": {
    "colab": {
      "provenance": [],
      "authorship_tag": "ABX9TyOdc5N8zHKu3W6ea5jPBoGW",
      "include_colab_link": true
    },
    "kernelspec": {
      "name": "python3",
      "display_name": "Python 3"
    },
    "language_info": {
      "name": "python"
    }
  },
  "cells": [
    {
      "cell_type": "markdown",
      "metadata": {
        "id": "view-in-github",
        "colab_type": "text"
      },
      "source": [
        "<a href=\"https://colab.research.google.com/github/KennyOliver/learning_ml/blob/main/learning_machine_learning.ipynb\" target=\"_parent\"><img src=\"https://colab.research.google.com/assets/colab-badge.svg\" alt=\"Open In Colab\"/></a>"
      ]
    },
    {
      "cell_type": "markdown",
      "source": [
        "# Learning Machine Learning"
      ],
      "metadata": {
        "id": "QZOc5HjkzjJJ"
      }
    },
    {
      "cell_type": "markdown",
      "source": [
        "This was made whilst following:\\\n",
        "[Python Machine Learning Tutorial (Data Science)](https://youtu.be/7eh4d6sabA0)"
      ],
      "metadata": {
        "id": "eFryQJfotlUj"
      }
    },
    {
      "cell_type": "markdown",
      "source": [
        "## Learning, Predicting, and Calculating Accuracy"
      ],
      "metadata": {
        "id": "LtAdElNgzeqo"
      }
    },
    {
      "cell_type": "code",
      "execution_count": 52,
      "metadata": {
        "id": "_tQda46Rr9Hd"
      },
      "outputs": [],
      "source": [
        "import pandas as pd\n",
        "from sklearn.tree import DecisionTreeClassifier\n",
        "from sklearn.model_selection import train_test_split  # for splitting datasets into separate training & testing data sets\n",
        "from sklearn.metrics import accuracy_score"
      ]
    },
    {
      "cell_type": "code",
      "source": [
        "music_data = pd.read_csv(\"./music.csv\")\n",
        "X = music_data.drop(columns=[\"genre\"])  # X for input\n",
        "y = music_data[\"genre\"]  # y for output\n",
        "\n",
        "(X_train, X_test, y_train, y_test) = train_test_split(X, y, test_size=0.2)  # 0.2 to allocate 20% of data for testing"
      ],
      "metadata": {
        "id": "WJXMTmTFxQlM"
      },
      "execution_count": 53,
      "outputs": []
    },
    {
      "cell_type": "markdown",
      "source": [
        "Rule of thumb: 70-80% of data for training & remainder 20-30% for testing"
      ],
      "metadata": {
        "id": "v6NILtm6xEz4"
      }
    },
    {
      "cell_type": "code",
      "source": [
        "model = DecisionTreeClassifier()\n",
        "# model.fit(X, y)  # old way of doing it\n",
        "# model.fit(X.values, y)\n",
        "model.fit(X_train.values, y_train)\n",
        "# predictions = model.predict([ [21, 1], [22, 0] ])  # 21-year-old male & 22-year-old female\n",
        "# predictions  # 21-year-old male 'likes' HipHop & 22-year-old female 'likes' Dance\n",
        "predictions = model.predict(X_test)\n",
        "\n",
        "score = accuracy_score(y_test, predictions)\n",
        "score"
      ],
      "metadata": {
        "colab": {
          "base_uri": "https://localhost:8080/"
        },
        "id": "9GWcTDvSxCok",
        "outputId": "268c3ac6-de95-493f-e7bd-09254c64ff6a"
      },
      "execution_count": 54,
      "outputs": [
        {
          "output_type": "stream",
          "name": "stderr",
          "text": [
            "/usr/local/lib/python3.8/dist-packages/sklearn/base.py:443: UserWarning: X has feature names, but DecisionTreeClassifier was fitted without feature names\n",
            "  warnings.warn(\n"
          ]
        },
        {
          "output_type": "execute_result",
          "data": {
            "text/plain": [
              "1.0"
            ]
          },
          "metadata": {},
          "execution_count": 54
        }
      ]
    },
    {
      "cell_type": "markdown",
      "source": [
        "## Model Persistence"
      ],
      "metadata": {
        "id": "k-uRTidOzaEp"
      }
    },
    {
      "cell_type": "markdown",
      "source": [
        "### Export The Model"
      ],
      "metadata": {
        "id": "QQTa4-zA1Why"
      }
    },
    {
      "cell_type": "code",
      "source": [
        "import pandas as pd\n",
        "from sklearn.tree import DecisionTreeClassifier\n",
        "# from sklearn.externals import joblib  # old way of doing it\n",
        "import joblib\n",
        "\n",
        "music_data = pd.read_csv(\"./music.csv\")\n",
        "X = music_data.drop(columns=\"genre\")\n",
        "y = music_data[\"genre\"]\n",
        "\n",
        "model = DecisionTreeClassifier()\n",
        "model.fit(X, y)\n",
        "\n",
        "joblib.dump(model, \"music-recommender.joblib\")  # store trained model in a file\n",
        "\n",
        "predictions = model.predict([[21, 1]])"
      ],
      "metadata": {
        "colab": {
          "base_uri": "https://localhost:8080/"
        },
        "id": "XfdLCL0Uzb--",
        "outputId": "06b686bd-6b7f-4455-c57e-6b33615f1446"
      },
      "execution_count": 55,
      "outputs": [
        {
          "output_type": "execute_result",
          "data": {
            "text/plain": [
              "['music-recommender.joblib']"
            ]
          },
          "metadata": {},
          "execution_count": 55
        }
      ]
    },
    {
      "cell_type": "markdown",
      "source": [
        "### Import The Model"
      ],
      "metadata": {
        "id": "gRk_M4_x1Ynl"
      }
    },
    {
      "cell_type": "code",
      "source": [
        "model = joblib.load(\"./music-recommender.joblib\")\n",
        "predictions = model.predict([[21, 1]])\n",
        "predictions"
      ],
      "metadata": {
        "colab": {
          "base_uri": "https://localhost:8080/"
        },
        "id": "WDQ698mD0rD8",
        "outputId": "8877e204-43b5-4b89-dd3b-c31394943877"
      },
      "execution_count": 56,
      "outputs": [
        {
          "output_type": "stream",
          "name": "stderr",
          "text": [
            "/usr/local/lib/python3.8/dist-packages/sklearn/base.py:450: UserWarning: X does not have valid feature names, but DecisionTreeClassifier was fitted with feature names\n",
            "  warnings.warn(\n"
          ]
        },
        {
          "output_type": "execute_result",
          "data": {
            "text/plain": [
              "array(['HipHop'], dtype=object)"
            ]
          },
          "metadata": {},
          "execution_count": 56
        }
      ]
    }
  ]
}